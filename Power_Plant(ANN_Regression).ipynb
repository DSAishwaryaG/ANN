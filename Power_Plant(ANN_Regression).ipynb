{
  "nbformat": 4,
  "nbformat_minor": 0,
  "metadata": {
    "colab": {
      "name": "Power_Plant(ANN_Regression).ipynb",
      "provenance": [],
      "mount_file_id": "1Z-1uBmA88d9Kix7VgNG9UMZkHpwkaCbd",
      "authorship_tag": "ABX9TyMkUJQ1zFJCsTuvHH2k67uH",
      "include_colab_link": true
    },
    "kernelspec": {
      "name": "python3",
      "display_name": "Python 3"
    },
    "language_info": {
      "name": "python"
    }
  },
  "cells": [
    {
      "cell_type": "markdown",
      "metadata": {
        "id": "view-in-github",
        "colab_type": "text"
      },
      "source": [
        "<a href=\"https://colab.research.google.com/github/DSAishwaryaG/ANN/blob/main/Power_Plant(ANN_Regression).ipynb\" target=\"_parent\"><img src=\"https://colab.research.google.com/assets/colab-badge.svg\" alt=\"Open In Colab\"/></a>"
      ]
    },
    {
      "cell_type": "code",
      "metadata": {
        "id": "VjhZkgEKfCNC"
      },
      "source": [
        "import pandas as pd\n",
        "import numpy as np\n",
        "import tensorflow as tf"
      ],
      "execution_count": null,
      "outputs": []
    },
    {
      "cell_type": "code",
      "metadata": {
        "colab": {
          "base_uri": "https://localhost:8080/",
          "height": 36
        },
        "id": "8teEWWVQo8L4",
        "outputId": "abba3b7d-587f-404d-8ffb-03f13ba45cb3"
      },
      "source": [
        "tf.__version__"
      ],
      "execution_count": null,
      "outputs": [
        {
          "output_type": "execute_result",
          "data": {
            "application/vnd.google.colaboratory.intrinsic+json": {
              "type": "string"
            },
            "text/plain": [
              "'2.5.0'"
            ]
          },
          "metadata": {
            "tags": []
          },
          "execution_count": 2
        }
      ]
    },
    {
      "cell_type": "code",
      "metadata": {
        "id": "4OlC0AtKo_fT"
      },
      "source": [
        "data = pd.read_excel('/content/drive/MyDrive/Project_Datasets/Folds5x2_pp.xlsx')"
      ],
      "execution_count": null,
      "outputs": []
    },
    {
      "cell_type": "code",
      "metadata": {
        "id": "pMJnNFQhpJ08"
      },
      "source": [
        "x = data.iloc[:,:-1].values\n",
        "y = data.iloc[:,-1].values"
      ],
      "execution_count": null,
      "outputs": []
    },
    {
      "cell_type": "code",
      "metadata": {
        "colab": {
          "base_uri": "https://localhost:8080/"
        },
        "id": "J2XCTssNvMI8",
        "outputId": "918d434a-df69-476c-e199-b5b0db99f93f"
      },
      "source": [
        "print(x)"
      ],
      "execution_count": null,
      "outputs": [
        {
          "output_type": "stream",
          "text": [
            "[[  14.96   41.76 1024.07   73.17]\n",
            " [  25.18   62.96 1020.04   59.08]\n",
            " [   5.11   39.4  1012.16   92.14]\n",
            " ...\n",
            " [  31.32   74.33 1012.92   36.48]\n",
            " [  24.48   69.45 1013.86   62.39]\n",
            " [  21.6    62.52 1017.23   67.87]]\n"
          ],
          "name": "stdout"
        }
      ]
    },
    {
      "cell_type": "code",
      "metadata": {
        "colab": {
          "base_uri": "https://localhost:8080/"
        },
        "id": "KPFc6okzvNrg",
        "outputId": "e69a30a7-08da-4b54-a918-688122c7c612"
      },
      "source": [
        "print(y)"
      ],
      "execution_count": null,
      "outputs": [
        {
          "output_type": "stream",
          "text": [
            "[463.26 444.37 488.56 ... 429.57 435.74 453.28]\n"
          ],
          "name": "stdout"
        }
      ]
    },
    {
      "cell_type": "code",
      "metadata": {
        "id": "69j4xEVGvUlM"
      },
      "source": [
        "from sklearn.model_selection import train_test_split\n",
        "x_train,x_test,y_train,y_test = train_test_split(x,y,random_state=0,test_size=0.2)\n",
        "#random_state is the seed that will fix the randomness of train test split i.e to have same split everytime we execute"
      ],
      "execution_count": null,
      "outputs": []
    },
    {
      "cell_type": "code",
      "metadata": {
        "id": "cDUIdboMv7oP"
      },
      "source": [
        "#input layer contains features\n",
        "#ann is of 2 types:Sequence of layers and Computational graph\n",
        "#tensorflow is a deep learning library which helps to build complex neural networks and train them\n",
        "#keras and tensorflow were separate before but after tensorflow 2, keras is combined with it\n",
        "ann = tf.keras.models.Sequential()"
      ],
      "execution_count": null,
      "outputs": []
    },
    {
      "cell_type": "code",
      "metadata": {
        "id": "cmJUn45yyhlD"
      },
      "source": [
        "ann.add(tf.keras.layers.Dense(units=6,activation='relu'))"
      ],
      "execution_count": null,
      "outputs": []
    },
    {
      "cell_type": "code",
      "metadata": {
        "id": "4fghJHwgz8Dm"
      },
      "source": [
        "ann.add(tf.keras.layers.Dense(units=6, activation='relu'))"
      ],
      "execution_count": null,
      "outputs": []
    },
    {
      "cell_type": "code",
      "metadata": {
        "id": "ycSFF3jhz9L3"
      },
      "source": [
        "ann.add(tf.keras.layers.Dense(units=1))#no activation function for regression output"
      ],
      "execution_count": null,
      "outputs": []
    },
    {
      "cell_type": "code",
      "metadata": {
        "id": "z9iVr5J60QdE"
      },
      "source": [
        "ann.compile(optimizer='adam', loss='mean_squared_error')\n",
        "#stocastic gradient descent(adam) is to update weights so as reduce the loss \n",
        "#mean_squared_error is used for regression "
      ],
      "execution_count": null,
      "outputs": []
    },
    {
      "cell_type": "code",
      "metadata": {
        "colab": {
          "base_uri": "https://localhost:8080/"
        },
        "id": "yT7BBvpN1srl",
        "outputId": "ce427de1-ba27-4e78-c5b8-7c30df5dd752"
      },
      "source": [
        "ann.fit(x_train,y_train,batch_size=32,epochs=100)\n",
        "#epochs is one pass of training set to the model(number of passes to reduce loss)"
      ],
      "execution_count": null,
      "outputs": [
        {
          "output_type": "stream",
          "text": [
            "Epoch 1/100\n",
            "240/240 [==============================] - 1s 1ms/step - loss: 632.7022\n",
            "Epoch 2/100\n",
            "240/240 [==============================] - 0s 1ms/step - loss: 341.8712\n",
            "Epoch 3/100\n",
            "240/240 [==============================] - 0s 1ms/step - loss: 270.8682\n",
            "Epoch 4/100\n",
            "240/240 [==============================] - 0s 1ms/step - loss: 203.9564\n",
            "Epoch 5/100\n",
            "240/240 [==============================] - 0s 1ms/step - loss: 150.1308\n",
            "Epoch 6/100\n",
            "240/240 [==============================] - 0s 1ms/step - loss: 109.0273\n",
            "Epoch 7/100\n",
            "240/240 [==============================] - 0s 1ms/step - loss: 80.2978\n",
            "Epoch 8/100\n",
            "240/240 [==============================] - 0s 1ms/step - loss: 61.4451\n",
            "Epoch 9/100\n",
            "240/240 [==============================] - 0s 1ms/step - loss: 50.2990\n",
            "Epoch 10/100\n",
            "240/240 [==============================] - 0s 1ms/step - loss: 43.5263\n",
            "Epoch 11/100\n",
            "240/240 [==============================] - 0s 1ms/step - loss: 40.5915\n",
            "Epoch 12/100\n",
            "240/240 [==============================] - 0s 1ms/step - loss: 38.9047\n",
            "Epoch 13/100\n",
            "240/240 [==============================] - 0s 1ms/step - loss: 38.3758\n",
            "Epoch 14/100\n",
            "240/240 [==============================] - 0s 1ms/step - loss: 37.4486\n",
            "Epoch 15/100\n",
            "240/240 [==============================] - 0s 1ms/step - loss: 36.5913\n",
            "Epoch 16/100\n",
            "240/240 [==============================] - 0s 1ms/step - loss: 36.9547\n",
            "Epoch 17/100\n",
            "240/240 [==============================] - 0s 1ms/step - loss: 36.0486\n",
            "Epoch 18/100\n",
            "240/240 [==============================] - 0s 1ms/step - loss: 35.2153\n",
            "Epoch 19/100\n",
            "240/240 [==============================] - 0s 1ms/step - loss: 33.9651\n",
            "Epoch 20/100\n",
            "240/240 [==============================] - 0s 1ms/step - loss: 33.2964\n",
            "Epoch 21/100\n",
            "240/240 [==============================] - 0s 1ms/step - loss: 33.1853\n",
            "Epoch 22/100\n",
            "240/240 [==============================] - 0s 1ms/step - loss: 33.2629\n",
            "Epoch 23/100\n",
            "240/240 [==============================] - 0s 1ms/step - loss: 32.8228\n",
            "Epoch 24/100\n",
            "240/240 [==============================] - 0s 1ms/step - loss: 32.0993\n",
            "Epoch 25/100\n",
            "240/240 [==============================] - 0s 1ms/step - loss: 31.0453\n",
            "Epoch 26/100\n",
            "240/240 [==============================] - 0s 1ms/step - loss: 31.5383\n",
            "Epoch 27/100\n",
            "240/240 [==============================] - 0s 1ms/step - loss: 30.5869\n",
            "Epoch 28/100\n",
            "240/240 [==============================] - 0s 1ms/step - loss: 30.4763\n",
            "Epoch 29/100\n",
            "240/240 [==============================] - 0s 1ms/step - loss: 29.6622\n",
            "Epoch 30/100\n",
            "240/240 [==============================] - 0s 1ms/step - loss: 29.4553\n",
            "Epoch 31/100\n",
            "240/240 [==============================] - 0s 1ms/step - loss: 29.9851\n",
            "Epoch 32/100\n",
            "240/240 [==============================] - 0s 1ms/step - loss: 29.0671\n",
            "Epoch 33/100\n",
            "240/240 [==============================] - 0s 1ms/step - loss: 28.6754\n",
            "Epoch 34/100\n",
            "240/240 [==============================] - 0s 1ms/step - loss: 28.4599\n",
            "Epoch 35/100\n",
            "240/240 [==============================] - 0s 1ms/step - loss: 28.3038\n",
            "Epoch 36/100\n",
            "240/240 [==============================] - 0s 1ms/step - loss: 28.3919\n",
            "Epoch 37/100\n",
            "240/240 [==============================] - 0s 1ms/step - loss: 28.5472\n",
            "Epoch 38/100\n",
            "240/240 [==============================] - 0s 1ms/step - loss: 28.0019\n",
            "Epoch 39/100\n",
            "240/240 [==============================] - 0s 1ms/step - loss: 28.4234\n",
            "Epoch 40/100\n",
            "240/240 [==============================] - 0s 1ms/step - loss: 28.1782\n",
            "Epoch 41/100\n",
            "240/240 [==============================] - 0s 1ms/step - loss: 27.7938\n",
            "Epoch 42/100\n",
            "240/240 [==============================] - 0s 1ms/step - loss: 27.5295\n",
            "Epoch 43/100\n",
            "240/240 [==============================] - 0s 1ms/step - loss: 27.9099\n",
            "Epoch 44/100\n",
            "240/240 [==============================] - 0s 1ms/step - loss: 27.5948\n",
            "Epoch 45/100\n",
            "240/240 [==============================] - 0s 1ms/step - loss: 27.3169\n",
            "Epoch 46/100\n",
            "240/240 [==============================] - 0s 1ms/step - loss: 27.3419\n",
            "Epoch 47/100\n",
            "240/240 [==============================] - 0s 1ms/step - loss: 27.7945\n",
            "Epoch 48/100\n",
            "240/240 [==============================] - 0s 1ms/step - loss: 27.1447\n",
            "Epoch 49/100\n",
            "240/240 [==============================] - 0s 1ms/step - loss: 27.6160\n",
            "Epoch 50/100\n",
            "240/240 [==============================] - 0s 1ms/step - loss: 27.2890\n",
            "Epoch 51/100\n",
            "240/240 [==============================] - 0s 1ms/step - loss: 26.7423\n",
            "Epoch 52/100\n",
            "240/240 [==============================] - 0s 1ms/step - loss: 26.8397\n",
            "Epoch 53/100\n",
            "240/240 [==============================] - 0s 1ms/step - loss: 27.0664\n",
            "Epoch 54/100\n",
            "240/240 [==============================] - 0s 1ms/step - loss: 27.0520\n",
            "Epoch 55/100\n",
            "240/240 [==============================] - 0s 1ms/step - loss: 27.0564\n",
            "Epoch 56/100\n",
            "240/240 [==============================] - 0s 1ms/step - loss: 27.5435\n",
            "Epoch 57/100\n",
            "240/240 [==============================] - 0s 1ms/step - loss: 27.3847\n",
            "Epoch 58/100\n",
            "240/240 [==============================] - 0s 1ms/step - loss: 27.6814\n",
            "Epoch 59/100\n",
            "240/240 [==============================] - 0s 1ms/step - loss: 27.1294\n",
            "Epoch 60/100\n",
            "240/240 [==============================] - 0s 1ms/step - loss: 27.5564\n",
            "Epoch 61/100\n",
            "240/240 [==============================] - 0s 1ms/step - loss: 26.9443\n",
            "Epoch 62/100\n",
            "240/240 [==============================] - 0s 1ms/step - loss: 27.6189\n",
            "Epoch 63/100\n",
            "240/240 [==============================] - 0s 1ms/step - loss: 27.4726\n",
            "Epoch 64/100\n",
            "240/240 [==============================] - 0s 1ms/step - loss: 26.6505\n",
            "Epoch 65/100\n",
            "240/240 [==============================] - 0s 1ms/step - loss: 26.9633\n",
            "Epoch 66/100\n",
            "240/240 [==============================] - 0s 1ms/step - loss: 27.5494\n",
            "Epoch 67/100\n",
            "240/240 [==============================] - 0s 1ms/step - loss: 27.0479\n",
            "Epoch 68/100\n",
            "240/240 [==============================] - 0s 1ms/step - loss: 27.1102\n",
            "Epoch 69/100\n",
            "240/240 [==============================] - 0s 1ms/step - loss: 27.2122\n",
            "Epoch 70/100\n",
            "240/240 [==============================] - 0s 1ms/step - loss: 27.2145\n",
            "Epoch 71/100\n",
            "240/240 [==============================] - 0s 1ms/step - loss: 27.0152\n",
            "Epoch 72/100\n",
            "240/240 [==============================] - 0s 1ms/step - loss: 26.9250\n",
            "Epoch 73/100\n",
            "240/240 [==============================] - 0s 1ms/step - loss: 26.8256\n",
            "Epoch 74/100\n",
            "240/240 [==============================] - 0s 1ms/step - loss: 27.4710\n",
            "Epoch 75/100\n",
            "240/240 [==============================] - 0s 1ms/step - loss: 26.5528\n",
            "Epoch 76/100\n",
            "240/240 [==============================] - 0s 1ms/step - loss: 27.4685\n",
            "Epoch 77/100\n",
            "240/240 [==============================] - 0s 1ms/step - loss: 27.3384\n",
            "Epoch 78/100\n",
            "240/240 [==============================] - 0s 1ms/step - loss: 27.3549\n",
            "Epoch 79/100\n",
            "240/240 [==============================] - 0s 1ms/step - loss: 27.8743\n",
            "Epoch 80/100\n",
            "240/240 [==============================] - 0s 1ms/step - loss: 27.3467\n",
            "Epoch 81/100\n",
            "240/240 [==============================] - 0s 1ms/step - loss: 26.7026\n",
            "Epoch 82/100\n",
            "240/240 [==============================] - 0s 1ms/step - loss: 26.9616\n",
            "Epoch 83/100\n",
            "240/240 [==============================] - 0s 1ms/step - loss: 27.1345\n",
            "Epoch 84/100\n",
            "240/240 [==============================] - 0s 1ms/step - loss: 27.3256\n",
            "Epoch 85/100\n",
            "240/240 [==============================] - 0s 1ms/step - loss: 27.6905\n",
            "Epoch 86/100\n",
            "240/240 [==============================] - 0s 1ms/step - loss: 26.9112\n",
            "Epoch 87/100\n",
            "240/240 [==============================] - 0s 1ms/step - loss: 27.3741\n",
            "Epoch 88/100\n",
            "240/240 [==============================] - 0s 1ms/step - loss: 26.6895\n",
            "Epoch 89/100\n",
            "240/240 [==============================] - 0s 1ms/step - loss: 26.9433\n",
            "Epoch 90/100\n",
            "240/240 [==============================] - 0s 1ms/step - loss: 27.3733\n",
            "Epoch 91/100\n",
            "240/240 [==============================] - 0s 1ms/step - loss: 26.8795\n",
            "Epoch 92/100\n",
            "240/240 [==============================] - 0s 1ms/step - loss: 27.6301\n",
            "Epoch 93/100\n",
            "240/240 [==============================] - 0s 1ms/step - loss: 27.5170\n",
            "Epoch 94/100\n",
            "240/240 [==============================] - 0s 1ms/step - loss: 26.5783\n",
            "Epoch 95/100\n",
            "240/240 [==============================] - 0s 1ms/step - loss: 27.3793\n",
            "Epoch 96/100\n",
            "240/240 [==============================] - 0s 1ms/step - loss: 26.3522\n",
            "Epoch 97/100\n",
            "240/240 [==============================] - 0s 1ms/step - loss: 27.0037\n",
            "Epoch 98/100\n",
            "240/240 [==============================] - 0s 1ms/step - loss: 27.2131\n",
            "Epoch 99/100\n",
            "240/240 [==============================] - 0s 1ms/step - loss: 27.3427\n",
            "Epoch 100/100\n",
            "240/240 [==============================] - 0s 1ms/step - loss: 26.7886\n"
          ],
          "name": "stdout"
        },
        {
          "output_type": "execute_result",
          "data": {
            "text/plain": [
              "<tensorflow.python.keras.callbacks.History at 0x7f51abfc8a10>"
            ]
          },
          "metadata": {
            "tags": []
          },
          "execution_count": 17
        }
      ]
    },
    {
      "cell_type": "code",
      "metadata": {
        "colab": {
          "base_uri": "https://localhost:8080/"
        },
        "id": "-wwZgPkE2X6p",
        "outputId": "02d91762-0e5f-41d6-c348-5d5b73634a93"
      },
      "source": [
        "y_pred = ann.predict(x_test)\n",
        "np.set_printoptions(precision=2)#    --rows----,columns                         \n",
        "print(np.concatenate((y_pred.reshape(len(y_pred),1), y_test.reshape(len(y_test),1)),1))#reshape() reshapes horizontal to vertical\n",
        "#                     ---------------2 vectors to concatenate---------------------- 1 for vertical concatenation\n",
        "#                                                                                   0 for horizontal concatenation"
      ],
      "execution_count": null,
      "outputs": [
        {
          "output_type": "stream",
          "text": [
            "[[432.07 431.23]\n",
            " [463.15 460.01]\n",
            " [466.66 461.14]\n",
            " ...\n",
            " [473.9  473.26]\n",
            " [440.62 438.  ]\n",
            " [459.86 463.28]]\n"
          ],
          "name": "stdout"
        }
      ]
    },
    {
      "cell_type": "code",
      "metadata": {
        "id": "aACyZdnS40d8"
      },
      "source": [
        ""
      ],
      "execution_count": null,
      "outputs": []
    }
  ]
}